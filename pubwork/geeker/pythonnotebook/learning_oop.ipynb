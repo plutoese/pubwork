{
 "cells": [
  {
   "cell_type": "code",
   "execution_count": 1,
   "metadata": {},
   "outputs": [
    {
     "name": "stdout",
     "output_type": "stream",
     "text": [
      "King Arthur\n",
      "3.14159\n"
     ]
    }
   ],
   "source": [
    "class FirstClass:\n",
    "    def setdata(self, value):\n",
    "        self.data = value\n",
    "        \n",
    "    def display(self):\n",
    "        print(self.data)\n",
    "\n",
    "x = FirstClass()\n",
    "y = FirstClass()\n",
    "x.setdata('King Arthur')\n",
    "y.setdata(3.14159)\n",
    "x.display()\n",
    "#King Arthur\n",
    "y.display()\n",
    "#3.14159"
   ]
  },
  {
   "cell_type": "code",
   "execution_count": 2,
   "metadata": {},
   "outputs": [
    {
     "name": "stdout",
     "output_type": "stream",
     "text": [
      "Current value = \"42\"\n"
     ]
    }
   ],
   "source": [
    "class SecondClass(FirstClass):\n",
    "    def display(self):\n",
    "        print('Current value = \"%s\"' % self.data)\n",
    "\n",
    "z = SecondClass()\n",
    "z.setdata(42)\n",
    "z.display()\n",
    "#Current value = \"42\""
   ]
  },
  {
   "cell_type": "code",
   "execution_count": 1,
   "metadata": {},
   "outputs": [
    {
     "ename": "NameError",
     "evalue": "name 'SecondClass' is not defined",
     "traceback": [
      "\u001b[1;31m---------------------------------------------------------------------------\u001b[0m",
      "\u001b[1;31mNameError\u001b[0m                                 Traceback (most recent call last)",
      "\u001b[1;32m<ipython-input-1-0e077b24e4b2>\u001b[0m in \u001b[0;36m<module>\u001b[1;34m()\u001b[0m\n\u001b[1;32m----> 1\u001b[1;33m \u001b[1;32mclass\u001b[0m \u001b[0mThirdClass\u001b[0m\u001b[1;33m(\u001b[0m\u001b[0mSecondClass\u001b[0m\u001b[1;33m)\u001b[0m\u001b[1;33m:\u001b[0m\u001b[1;33m\u001b[0m\u001b[0m\n\u001b[0m\u001b[0;32m      2\u001b[0m     \u001b[1;32mdef\u001b[0m \u001b[0m__init__\u001b[0m\u001b[1;33m(\u001b[0m\u001b[0mself\u001b[0m\u001b[1;33m,\u001b[0m \u001b[0mvalue\u001b[0m\u001b[1;33m)\u001b[0m\u001b[1;33m:\u001b[0m\u001b[1;33m\u001b[0m\u001b[0m\n\u001b[0;32m      3\u001b[0m         \u001b[0mself\u001b[0m\u001b[1;33m.\u001b[0m\u001b[0mdata\u001b[0m \u001b[1;33m=\u001b[0m \u001b[0mvalue\u001b[0m\u001b[1;33m\u001b[0m\u001b[0m\n\u001b[0;32m      4\u001b[0m \u001b[1;33m\u001b[0m\u001b[0m\n\u001b[0;32m      5\u001b[0m     \u001b[1;32mdef\u001b[0m \u001b[0m__add__\u001b[0m\u001b[1;33m(\u001b[0m\u001b[0mself\u001b[0m\u001b[1;33m,\u001b[0m \u001b[0mother\u001b[0m\u001b[1;33m)\u001b[0m\u001b[1;33m:\u001b[0m\u001b[1;33m\u001b[0m\u001b[0m\n",
      "\u001b[1;31mNameError\u001b[0m: name 'SecondClass' is not defined"
     ],
     "output_type": "error"
    }
   ],
   "source": [
    "class ThirdClass(SecondClass):\n",
    "    def __init__(self, value):\n",
    "        self.data = value\n",
    "    \n",
    "    def __add__(self, other):\n",
    "        return ThirdClass(self.data + other)\n",
    "    \n",
    "    def __str__(self):\n",
    "        return '[ThirdClass: %s]' % self.data\n",
    "    \n",
    "    def mul(self, other):\n",
    "        self.data *= other\n",
    "\n",
    "a = ThirdClass('abc')\n",
    "a.display()\n",
    "#Current value = \"abc\"\n",
    "print(a)\n",
    "#[ThirdClass: abc]\n",
    "\n",
    "b = a + 'xyz'\n",
    "print(b)\n",
    "#[ThirdClass: abcxyz]\n",
    "a.mul(3)\n",
    "print(a)\n",
    "#[ThirdClass: abcabcabc]"
   ]
  },
  {
   "cell_type": "code",
   "execution_count": 11,
   "metadata": {},
   "outputs": [
    {
     "name": "stdout",
     "output_type": "stream",
     "text": [
      "Bob Bob\n",
      "Bob Sue Bob\n",
      "dict_keys(['__module__', '__dict__', '__weakref__', '__doc__', 'name', 'age'])\n",
      "dict_keys(['name'])\n",
      "dict_keys([])\n",
      "<class '__main__.rec'>\n",
      "(<class 'object'>,)\n"
     ]
    }
   ],
   "source": [
    "class rec: pass\n",
    "\n",
    "rec.name = 'Bob'\n",
    "rec.age = 40\n",
    "\n",
    "x = rec()\n",
    "y = rec()\n",
    "print(x.name, y.name)\n",
    "#Bob Bob\n",
    "\n",
    "x.name = 'Sue'\n",
    "print(rec.name, x.name, y.name)\n",
    "#Bob Sue Bob\n",
    "\n",
    "print(rec.__dict__.keys())\n",
    "#dict_keys(['__module__', '__dict__', '__weakref__', '__doc__', 'name', 'age'])\n",
    "print(x.__dict__.keys())\n",
    "#dict_keys(['name'])\n",
    "print(y.__dict__.keys())\n",
    "#dict_keys([])\n",
    "\n",
    "print(x.__class__)\n",
    "#<class '__main__.rec'>\n",
    "print(rec.__bases__)\n",
    "#(<class 'object'>,)"
   ]
  },
  {
   "cell_type": "code",
   "execution_count": 14,
   "metadata": {},
   "outputs": [
    {
     "name": "stdout",
     "output_type": "stream",
     "text": [
      "[TopTest: attr1 = 0, attr2 = 1]\n",
      "[SubTest: attr1 = 2, attr2 = 3]\n"
     ]
    }
   ],
   "source": [
    "class AttrDisplay:\n",
    "    def gatherAttrs(self):\n",
    "        attrs = []\n",
    "        for key in sorted(self.__dict__):\n",
    "            attrs.append('%s = %s' % (key, getattr(self, key)))\n",
    "        return ', '.join(attrs)\n",
    "\n",
    "    def __str__(self):\n",
    "        return '[%s: %s]' % (self.__class__.__name__, self.gatherAttrs())\n",
    "    \n",
    "class TopTest(AttrDisplay):\n",
    "    count = 0\n",
    "    def __init__(self):\n",
    "        self.attr1 = TopTest.count\n",
    "        self.attr2 = TopTest.count + 1\n",
    "        TopTest.count += 2\n",
    "\n",
    "class SubTest(TopTest):\n",
    "    pass\n",
    "\n",
    "X, Y = TopTest(), SubTest()\n",
    "print(X)\n",
    "#[TopTest: attr1 = 0, attr2 = 1]\n",
    "print(Y)\n",
    "#[SubTest: attr1 = 2, attr2 = 3]"
   ]
  },
  {
   "cell_type": "code",
   "execution_count": 17,
   "metadata": {},
   "outputs": [
    {
     "name": "stdout",
     "output_type": "stream",
     "text": [
      "\n",
      "Inheritor...\n",
      "in Super.method\n",
      "\n",
      "Replacer...\n",
      "in Replacer.method\n",
      "\n",
      "Extender...\n",
      "starting Extender.method\n",
      "in Super.method\n",
      "ending Extender.method\n",
      "\n",
      "Provider...\n",
      "in Provider.action\n"
     ]
    },
    {
     "ename": "NotImplementedError",
     "evalue": "action must be defined",
     "traceback": [
      "\u001b[1;31m---------------------------------------------------------------------------\u001b[0m",
      "\u001b[1;31mNotImplementedError\u001b[0m                       Traceback (most recent call last)",
      "\u001b[1;32m<ipython-input-17-d1c280f9b8ce>\u001b[0m in \u001b[0;36m<module>\u001b[1;34m()\u001b[0m\n\u001b[0;32m     35\u001b[0m \u001b[1;33m\u001b[0m\u001b[0m\n\u001b[0;32m     36\u001b[0m \u001b[0mX\u001b[0m \u001b[1;33m=\u001b[0m \u001b[0mSuper\u001b[0m\u001b[1;33m(\u001b[0m\u001b[1;33m)\u001b[0m\u001b[1;33m\u001b[0m\u001b[0m\n\u001b[1;32m---> 37\u001b[1;33m \u001b[0mX\u001b[0m\u001b[1;33m.\u001b[0m\u001b[0mdelegate\u001b[0m\u001b[1;33m(\u001b[0m\u001b[1;33m)\u001b[0m\u001b[1;33m\u001b[0m\u001b[0m\n\u001b[0m",
      "\u001b[1;32m<ipython-input-17-d1c280f9b8ce>\u001b[0m in \u001b[0;36mdelegate\u001b[1;34m(self)\u001b[0m\n\u001b[0;32m      4\u001b[0m \u001b[1;33m\u001b[0m\u001b[0m\n\u001b[0;32m      5\u001b[0m     \u001b[1;32mdef\u001b[0m \u001b[0mdelegate\u001b[0m\u001b[1;33m(\u001b[0m\u001b[0mself\u001b[0m\u001b[1;33m)\u001b[0m\u001b[1;33m:\u001b[0m\u001b[1;33m\u001b[0m\u001b[0m\n\u001b[1;32m----> 6\u001b[1;33m         \u001b[0mself\u001b[0m\u001b[1;33m.\u001b[0m\u001b[0maction\u001b[0m\u001b[1;33m(\u001b[0m\u001b[1;33m)\u001b[0m\u001b[1;33m\u001b[0m\u001b[0m\n\u001b[0m\u001b[0;32m      7\u001b[0m \u001b[1;33m\u001b[0m\u001b[0m\n\u001b[0;32m      8\u001b[0m     \u001b[1;32mdef\u001b[0m \u001b[0maction\u001b[0m\u001b[1;33m(\u001b[0m\u001b[0mself\u001b[0m\u001b[1;33m)\u001b[0m\u001b[1;33m:\u001b[0m\u001b[1;33m\u001b[0m\u001b[0m\n",
      "\u001b[1;32m<ipython-input-17-d1c280f9b8ce>\u001b[0m in \u001b[0;36maction\u001b[1;34m(self)\u001b[0m\n\u001b[0;32m      7\u001b[0m \u001b[1;33m\u001b[0m\u001b[0m\n\u001b[0;32m      8\u001b[0m     \u001b[1;32mdef\u001b[0m \u001b[0maction\u001b[0m\u001b[1;33m(\u001b[0m\u001b[0mself\u001b[0m\u001b[1;33m)\u001b[0m\u001b[1;33m:\u001b[0m\u001b[1;33m\u001b[0m\u001b[0m\n\u001b[1;32m----> 9\u001b[1;33m         \u001b[1;32mraise\u001b[0m \u001b[0mNotImplementedError\u001b[0m\u001b[1;33m(\u001b[0m\u001b[1;34m'action must be defined'\u001b[0m\u001b[1;33m)\u001b[0m\u001b[1;33m\u001b[0m\u001b[0m\n\u001b[0m\u001b[0;32m     10\u001b[0m \u001b[1;33m\u001b[0m\u001b[0m\n\u001b[0;32m     11\u001b[0m \u001b[1;32mclass\u001b[0m \u001b[0mInheritor\u001b[0m\u001b[1;33m(\u001b[0m\u001b[0mSuper\u001b[0m\u001b[1;33m)\u001b[0m\u001b[1;33m:\u001b[0m\u001b[1;33m\u001b[0m\u001b[0m\n",
      "\u001b[1;31mNotImplementedError\u001b[0m: action must be defined"
     ],
     "output_type": "error"
    }
   ],
   "source": [
    "class Super:\n",
    "    def method(self):\n",
    "        print('in Super.method')\n",
    "    \n",
    "    def delegate(self):\n",
    "        self.action()\n",
    "        \n",
    "    def action(self):\n",
    "        raise NotImplementedError('action must be defined')\n",
    "\n",
    "class Inheritor(Super):\n",
    "    pass\n",
    "\n",
    "class Replacer(Super):\n",
    "    def method(self):\n",
    "        print('in Replacer.method')\n",
    "\n",
    "class Extender(Super):\n",
    "    def method(self):\n",
    "        print('starting Extender.method')\n",
    "        Super.method(self)\n",
    "        print('ending Extender.method')\n",
    "\n",
    "class Provider(Super):\n",
    "    def action(self):\n",
    "        print('in Provider.action')\n",
    "\n",
    "for klass in (Inheritor, Replacer, Extender):\n",
    "    print('\\n' + klass.__name__ + '...')\n",
    "    klass().method()\n",
    "    \n",
    "print('\\nProvider...')\n",
    "x = Provider()\n",
    "x.delegate()\n",
    "\n",
    "X = Super()\n",
    "X.delegate()"
   ]
  },
  {
   "cell_type": "code",
   "execution_count": 18,
   "metadata": {},
   "outputs": [
    {
     "name": "stdout",
     "output_type": "stream",
     "text": [
      "spam\n"
     ]
    }
   ],
   "source": [
    "from abc import ABCMeta, abstractclassmethod\n",
    "\n",
    "class Super:    \n",
    "    def delegate(self):\n",
    "        self.action()\n",
    "    \n",
    "    @abstractclassmethod\n",
    "    def action(self):\n",
    "        pass\n",
    "\n",
    "class Sub(Super):\n",
    "    def action(self):\n",
    "        print('spam')\n",
    "\n",
    "X = Sub()\n",
    "X.delegate()\n",
    "#spam"
   ]
  },
  {
   "cell_type": "code",
   "execution_count": 19,
   "metadata": {},
   "outputs": [
    {
     "data": {
      "text/plain": [
       "4"
      ]
     },
     "execution_count": 19,
     "metadata": {},
     "output_type": "execute_result"
    }
   ],
   "source": [
    "class Indexer:\n",
    "    def __getitem__(self, index):\n",
    "        return index ** 2\n",
    "\n",
    "X = Indexer()\n",
    "X[2]\n",
    "#4"
   ]
  },
  {
   "cell_type": "code",
   "execution_count": 26,
   "metadata": {},
   "outputs": [
    {
     "name": "stdout",
     "output_type": "stream",
     "text": [
      "[7, 8]\n",
      "[6, 7, 8, 9]\n",
      "getitem: 0\n",
      "getitem: slice(1, None, None)\n"
     ]
    },
    {
     "data": {
      "text/plain": [
       "[6, 7, 8, 9]"
      ]
     },
     "execution_count": 26,
     "metadata": {},
     "output_type": "execute_result"
    }
   ],
   "source": [
    "class Indexer:\n",
    "    data = [5, 6, 7, 8, 9]\n",
    "    def __getitem__(self, index):\n",
    "        print('getitem:', index)\n",
    "        return self.data[index]\n",
    "\n",
    "L = [5, 6, 7, 8, 9]\n",
    "print(L[slice(2,4)])\n",
    "#[7, 8]\n",
    "print(L[slice(1,None)])\n",
    "#[6, 7, 8, 9]\n",
    "X = Indexer()\n",
    "X[0]\n",
    "#getitem: 0\n",
    "#5\n",
    "X[1:]\n",
    "#getitem: slice(1, None, None)\n",
    "#[6, 7, 8, 9]"
   ]
  },
  {
   "cell_type": "code",
   "execution_count": 27,
   "metadata": {},
   "outputs": [
    {
     "name": "stdout",
     "output_type": "stream",
     "text": [
      "s p a m "
     ]
    }
   ],
   "source": [
    "class stepper:\n",
    "    def __getitem__(self, i):\n",
    "        return self.data[i]\n",
    "\n",
    "X = stepper()\n",
    "X.data = 'spam'\n",
    "for item in X:\n",
    "    print(item, end=' ')"
   ]
  },
  {
   "cell_type": "code",
   "execution_count": 28,
   "metadata": {},
   "outputs": [
    {
     "name": "stdout",
     "output_type": "stream",
     "text": [
      "1 4 9 16 25 "
     ]
    }
   ],
   "source": [
    "class Squares:\n",
    "    def __init__(self, start, stop):\n",
    "        self.value = start - 1\n",
    "        self.stop = stop\n",
    "    \n",
    "    def __iter__(self):\n",
    "        return self\n",
    "    \n",
    "    def __next__(self):\n",
    "        if self.value == self.stop:\n",
    "            raise StopIteration\n",
    "        self.value += 1\n",
    "        return self.value ** 2\n",
    "\n",
    "for i in Squares(1, 5):\n",
    "    print(i, end=' ')\n",
    "#1 4 9 16 25"
   ]
  },
  {
   "cell_type": "code",
   "execution_count": 37,
   "metadata": {},
   "outputs": [
    {
     "data": {
      "text/plain": [
       "40"
      ]
     },
     "execution_count": 37,
     "metadata": {},
     "output_type": "execute_result"
    }
   ],
   "source": [
    "class empty:\n",
    "    def __getattr__(self, attrname):\n",
    "        if attrname == 'age':\n",
    "            return 40\n",
    "        else:\n",
    "            raise AttributeError(attrname)\n",
    "\n",
    "X = empty()\n",
    "X.age"
   ]
  },
  {
   "cell_type": "code",
   "execution_count": 38,
   "metadata": {},
   "outputs": [
    {
     "data": {
      "text/plain": [
       "40"
      ]
     },
     "execution_count": 38,
     "metadata": {},
     "output_type": "execute_result"
    }
   ],
   "source": [
    "class accesscontrol:\n",
    "    def __setattr__(self, attr, value):\n",
    "        if attr == 'age':\n",
    "            self.__dict__[attr] = value\n",
    "        else:\n",
    "            raise AttributeError(attr+' not allowed')\n",
    "\n",
    "X = accesscontrol()\n",
    "X.age = 40\n",
    "X.age\n",
    "#40"
   ]
  },
  {
   "cell_type": "code",
   "execution_count": 1,
   "metadata": {
    "collapsed": true
   },
   "outputs": [],
   "source": [
    "class Date:\n",
    "    __slots__ = ['year', 'month', 'day']\n",
    "    def __init__(self, year, month, day):\n",
    "        self.year = year\n",
    "        self.month = month\n",
    "        self.day = day\n",
    "\n",
    "date = Date('2017','7','25')"
   ]
  },
  {
   "cell_type": "code",
   "execution_count": 4,
   "metadata": {},
   "outputs": [
    {
     "data": {
      "text/plain": [
       "'Gary'"
      ]
     },
     "execution_count": 4,
     "metadata": {},
     "output_type": "execute_result"
    }
   ],
   "source": [
    "class Person:\n",
    "    def __init__(self, first_name):\n",
    "        self.first_name = first_name\n",
    "    \n",
    "    # Getter function\n",
    "    @property\n",
    "    def first_name(self):\n",
    "        return self._first_name\n",
    "    \n",
    "    # Setter function\n",
    "    @first_name.setter\n",
    "    def first_name(self, value):\n",
    "        if not isinstance(value, str):\n",
    "            raise TypeError('Expected a string')\n",
    "        self._first_name = value\n",
    "    \n",
    "    # Delete function (optional)\n",
    "    @first_name.deleter\n",
    "    def first_name(self):\n",
    "        raise AttributeError(\"Can't delete attribute!\")\n",
    "\n",
    "a = Person('Guido')\n",
    "a.first_name\n",
    "#'Guido'\n",
    "a.first_name = 'Gary'\n",
    "a.first_name\n",
    "#'Gary'"
   ]
  },
  {
   "cell_type": "code",
   "execution_count": null,
   "metadata": {
    "collapsed": true
   },
   "outputs": [],
   "source": [
    "class A:\n",
    "    def spam(self):\n",
    "        print('A.spam')\n",
    "        \n",
    "class B(A):\n",
    "    def spam(self):\n",
    "        print('B.spam')\n",
    "        super().spam()"
   ]
  },
  {
   "cell_type": "code",
   "execution_count": 6,
   "metadata": {},
   "outputs": [
    {
     "name": "stdout",
     "output_type": "stream",
     "text": [
      "2\n"
     ]
    }
   ],
   "source": [
    "class Integer:\n",
    "    def __init__(self, name):\n",
    "        self.name = name\n",
    "        \n",
    "    def __get__(self, instance, cls):\n",
    "        if instance is None:\n",
    "            return self\n",
    "        else:\n",
    "            return instance.__dict__[self.name]\n",
    "    \n",
    "    def __set__(self, instance, value):\n",
    "        if not isinstance(value, int):\n",
    "            raise TypeError('Expected an int!')\n",
    "        instance.__dict__[self.name] = value\n",
    "    \n",
    "    def __delete(self, instance):\n",
    "        del instance.__dict__[self.name]\n",
    "\n",
    "class Point:\n",
    "    x = Integer('x')\n",
    "    y = Integer('y')\n",
    "    \n",
    "    def __init__(self, x, y):\n",
    "        self.x = x\n",
    "        self.y = y\n",
    "\n",
    "p = Point(2,3)\n",
    "print(p.x)\n",
    "#2\n",
    "p.y = 5"
   ]
  },
  {
   "cell_type": "code",
   "execution_count": 7,
   "metadata": {},
   "outputs": [
    {
     "name": "stdout",
     "output_type": "stream",
     "text": [
      "4.0\n",
      "Computing area\n",
      "50.26548245743669\n"
     ]
    }
   ],
   "source": [
    "class lazyproperty:\n",
    "    def __init__(self, func):\n",
    "        self.func = func\n",
    "        \n",
    "    def __get__(self, instance, cls):\n",
    "        if instance is None:\n",
    "            return self\n",
    "        else:\n",
    "            value = self.func(instance)\n",
    "            setattr(instance, self.func.__name__, value)\n",
    "            return value\n",
    "\n",
    "import math\n",
    "\n",
    "class Circle:\n",
    "    def __init__(self, radius):\n",
    "        self.radius = radius\n",
    "    \n",
    "    @lazyproperty\n",
    "    def area(self):\n",
    "        print('Computing area')\n",
    "        return math.pi * self.radius ** 2\n",
    "\n",
    "c = Circle(4.0)\n",
    "print(c.radius)\n",
    "#4.0\n",
    "print(c.area)\n",
    "#Computing area\n",
    "#50.26548245743669"
   ]
  },
  {
   "cell_type": "code",
   "execution_count": 12,
   "metadata": {},
   "outputs": [
    {
     "name": "stdout",
     "output_type": "stream",
     "text": [
      "2012-12-21\n",
      "The date is 2012-12-21\n"
     ]
    }
   ],
   "source": [
    "_format = {\n",
    "    'ymd': '{d.year}-{d.month}-{d.day}',\n",
    "    'mdy': '{d.month}/{d.day}/{d.year}',\n",
    "    'dmy': '{d.day}/{d.month}/{d.year}',\n",
    "}\n",
    "\n",
    "class Date:\n",
    "    def __init__(self, year, month, day):\n",
    "        self.year = year\n",
    "        self.month = month\n",
    "        self.day = day\n",
    "    \n",
    "    def __format__(self, code):\n",
    "        if code == '':\n",
    "            code = 'ymd'\n",
    "        fmt = _format[code]\n",
    "        return fmt.format(d=self)\n",
    "\n",
    "d = Date(2012, 12, 21)\n",
    "print(format(d))\n",
    "#2012-12-21\n",
    "print('The date is {:ymd}'.format(d))\n",
    "#The date is 2012-12-21"
   ]
  },
  {
   "cell_type": "code",
   "execution_count": 14,
   "metadata": {
    "collapsed": true
   },
   "outputs": [],
   "source": [
    "class A:\n",
    "    def spam(self, x):\n",
    "        pass\n",
    "    \n",
    "    def foo(self):\n",
    "        pass\n",
    "\n",
    "class B:\n",
    "    def __init__(self):\n",
    "        self._a = A()\n",
    "\n",
    "    def bar(self):\n",
    "        pass\n",
    "    \n",
    "    # Expose all of the methods defined on class A\n",
    "    def __getattr__(self, name):\n",
    "        return getattr(self._a, name)\n",
    "\n",
    "b = B()\n",
    "b.bar()\n",
    "b.spam(42)"
   ]
  },
  {
   "cell_type": "code",
   "execution_count": 15,
   "metadata": {},
   "outputs": [
    {
     "name": "stdout",
     "output_type": "stream",
     "text": [
      "getattr: x\n",
      "2\n",
      "getattr: bar\n",
      "Spam.bar: 2 3\n",
      "setattr: x 37\n"
     ]
    }
   ],
   "source": [
    "class Proxy:\n",
    "    def __init__(self, obj):\n",
    "        self._obj = obj\n",
    "    \n",
    "    # Delegate attribute lookup to internal obj\n",
    "    def __getattr__(self, name):\n",
    "        print('getattr:', name)\n",
    "        return getattr(self._obj, name)\n",
    "\n",
    "    # Delegate attribute assignment\n",
    "    def __setattr__(self, name, value):\n",
    "        if name.startswith('_'):\n",
    "            super().__setattr__(name, value)\n",
    "        else:\n",
    "            print('setattr:', name, value)\n",
    "            setattr(self._obj, name, value)\n",
    "    \n",
    "    def __delattr__(self, name):\n",
    "        if name.startswith('_'):\n",
    "            super().__delattr__(name)\n",
    "        else:\n",
    "            print('delattr:', name)\n",
    "            delattr(self._obj, name)\n",
    "\n",
    "class Spam:\n",
    "    def __init__(self, x):\n",
    "        self.x = x\n",
    "    \n",
    "    def bar(self, y):\n",
    "        print('Spam.bar:', self.x, y)\n",
    "\n",
    "s = Spam(2)\n",
    "p = Proxy(s)\n",
    "\n",
    "print(p.x)\n",
    "#getattr: x\n",
    "#2\n",
    "p.bar(3)\n",
    "#Spam.bar: 2 3\n",
    "p.x = 37\n",
    "#setattr: x 37"
   ]
  },
  {
   "cell_type": "code",
   "execution_count": 17,
   "metadata": {},
   "outputs": [
    {
     "name": "stdout",
     "output_type": "stream",
     "text": [
      "<__main__.Date object at 0x00000244832029E8>\n",
      "2012 8\n"
     ]
    }
   ],
   "source": [
    "class Date:\n",
    "    def __init__(self, year, month, day):\n",
    "        self.year = year\n",
    "        self.month = month\n",
    "        self.day = day\n",
    "\n",
    "d = Date.__new__(Date)\n",
    "print(d)\n",
    "#<__main__.Date object at 0x0000024483202630>\n",
    "\n",
    "data = {'year':2012, 'month':8, 'day':29}\n",
    "for key, value in data.items():\n",
    "    setattr(d, key, value)\n",
    "print(d.year, d.month)\n",
    "#2012 8"
   ]
  }
 ],
 "metadata": {
  "kernelspec": {
   "display_name": "Python 3",
   "language": "python",
   "name": "python3"
  },
  "language_info": {
   "codemirror_mode": {
    "name": "ipython",
    "version": 3.0
   },
   "file_extension": ".py",
   "mimetype": "text/x-python",
   "name": "python",
   "nbconvert_exporter": "python",
   "pygments_lexer": "ipython3",
   "version": "3.6.1"
  }
 },
 "nbformat": 4,
 "nbformat_minor": 0
}